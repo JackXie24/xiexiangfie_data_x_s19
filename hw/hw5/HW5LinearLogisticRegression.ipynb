{
 "cells": [
  {
   "cell_type": "markdown",
   "metadata": {},
   "source": [
    "# Data-X Spring 2019: Homework 05\n",
    "\n",
    "### Linear regression & Logistic regression\n",
    "\n",
    "\n",
    "\n",
    "## Name:Jack Xie\n",
    "\n",
    "## SID: 3032163590\n",
    "\n",
    "\n",
    "\n",
    "\n",
    "In this homework, you will do some exercises on prediction using sklearn. \n",
    "\n",
    "REMEMBER TO DISPLAY ALL OUTPUTS. If the question asks you to do something, make sure to print your results.\n"
   ]
  },
  {
   "cell_type": "markdown",
   "metadata": {},
   "source": [
    "## Part 1 - Regression"
   ]
  },
  {
   "cell_type": "markdown",
   "metadata": {},
   "source": [
    "\n",
    "### Data:\n",
    "__Data Source__:\n",
    "Data file is uploaded to bCourses and is named: __Energy.csv__ \n",
    "(Link in the Assignment details page on Bcourses) \n",
    "\n",
    "The dataset was created by Angeliki Xifara ( Civil/Structural Engineer) and was processed by Athanasios Tsanas, Oxford Centre for Industrial and Applied Mathematics, University of Oxford, UK).\n",
    "\n",
    "__Data Description__:\n",
    "\n",
    "The dataset contains eight attributes of a building (or features, denoted by X1...X8) and response being the heating load on the building, y1. \n",
    "\n",
    "* X1\tRelative Compactness \n",
    "* X2\tSurface Area \n",
    "* X3\tWall Area \n",
    "*  X4\tRoof Area \n",
    "*  X5\tOverall Height \n",
    "* X6\tOrientation \n",
    "*  X7\tGlazing Area \n",
    "*  X8\tGlazing Area Distribution \n",
    "*  y1\tHeating Load \n"
   ]
  },
  {
   "cell_type": "markdown",
   "metadata": {},
   "source": [
    "#### Q1.1\n",
    "Read the data file from the csv.\n",
    "\n",
    "Print the count of NaN values for each attribute in the dataset.\n",
    "\n",
    "Print the Range (min, max) and percentiles (25th, 50th, and 75th) of each attribute in the dataset"
   ]
  },
  {
   "cell_type": "code",
   "execution_count": 560,
   "metadata": {},
   "outputs": [],
   "source": [
    "import numpy as np\n",
    "import pandas as pd\n",
    "from sklearn.utils import shuffle\n",
    "import warnings\n",
    "warnings.filterwarnings(\"ignore\", category=FutureWarning)"
   ]
  },
  {
   "cell_type": "code",
   "execution_count": 410,
   "metadata": {},
   "outputs": [],
   "source": [
    "df = pd.read_csv('Energy.csv')"
   ]
  },
  {
   "cell_type": "code",
   "execution_count": 411,
   "metadata": {},
   "outputs": [],
   "source": [
    "df= shuffle(df).reset_index(drop=True)"
   ]
  },
  {
   "cell_type": "code",
   "execution_count": 390,
   "metadata": {},
   "outputs": [
    {
     "data": {
      "text/plain": [
       "X1    0\n",
       "X2    0\n",
       "X3    0\n",
       "X4    0\n",
       "X5    0\n",
       "X6    0\n",
       "X7    0\n",
       "X8    0\n",
       "Y1    0\n",
       "dtype: int64"
      ]
     },
     "execution_count": 390,
     "metadata": {},
     "output_type": "execute_result"
    }
   ],
   "source": [
    "df[df.isnull()==True].count()"
   ]
  },
  {
   "cell_type": "code",
   "execution_count": 391,
   "metadata": {},
   "outputs": [
    {
     "data": {
      "text/html": [
       "<div>\n",
       "<style scoped>\n",
       "    .dataframe tbody tr th:only-of-type {\n",
       "        vertical-align: middle;\n",
       "    }\n",
       "\n",
       "    .dataframe tbody tr th {\n",
       "        vertical-align: top;\n",
       "    }\n",
       "\n",
       "    .dataframe thead th {\n",
       "        text-align: right;\n",
       "    }\n",
       "</style>\n",
       "<table border=\"1\" class=\"dataframe\">\n",
       "  <thead>\n",
       "    <tr style=\"text-align: right;\">\n",
       "      <th></th>\n",
       "      <th>X1</th>\n",
       "      <th>X2</th>\n",
       "      <th>X3</th>\n",
       "      <th>X4</th>\n",
       "      <th>X5</th>\n",
       "      <th>X6</th>\n",
       "      <th>X7</th>\n",
       "      <th>X8</th>\n",
       "      <th>Y1</th>\n",
       "    </tr>\n",
       "  </thead>\n",
       "  <tbody>\n",
       "    <tr>\n",
       "      <th>min</th>\n",
       "      <td>0.6200</td>\n",
       "      <td>514.500</td>\n",
       "      <td>245.0</td>\n",
       "      <td>110.250</td>\n",
       "      <td>3.50</td>\n",
       "      <td>2.00</td>\n",
       "      <td>0.00</td>\n",
       "      <td>0.00</td>\n",
       "      <td>6.0100</td>\n",
       "    </tr>\n",
       "    <tr>\n",
       "      <th>25%</th>\n",
       "      <td>0.6825</td>\n",
       "      <td>606.375</td>\n",
       "      <td>294.0</td>\n",
       "      <td>140.875</td>\n",
       "      <td>3.50</td>\n",
       "      <td>2.75</td>\n",
       "      <td>0.10</td>\n",
       "      <td>1.75</td>\n",
       "      <td>12.9925</td>\n",
       "    </tr>\n",
       "    <tr>\n",
       "      <th>50%</th>\n",
       "      <td>0.7500</td>\n",
       "      <td>673.750</td>\n",
       "      <td>318.5</td>\n",
       "      <td>183.750</td>\n",
       "      <td>5.25</td>\n",
       "      <td>3.50</td>\n",
       "      <td>0.25</td>\n",
       "      <td>3.00</td>\n",
       "      <td>18.9500</td>\n",
       "    </tr>\n",
       "    <tr>\n",
       "      <th>75%</th>\n",
       "      <td>0.8300</td>\n",
       "      <td>741.125</td>\n",
       "      <td>343.0</td>\n",
       "      <td>220.500</td>\n",
       "      <td>7.00</td>\n",
       "      <td>4.25</td>\n",
       "      <td>0.40</td>\n",
       "      <td>4.00</td>\n",
       "      <td>31.6675</td>\n",
       "    </tr>\n",
       "    <tr>\n",
       "      <th>max</th>\n",
       "      <td>0.9800</td>\n",
       "      <td>808.500</td>\n",
       "      <td>416.5</td>\n",
       "      <td>220.500</td>\n",
       "      <td>7.00</td>\n",
       "      <td>5.00</td>\n",
       "      <td>0.40</td>\n",
       "      <td>5.00</td>\n",
       "      <td>43.1000</td>\n",
       "    </tr>\n",
       "  </tbody>\n",
       "</table>\n",
       "</div>"
      ],
      "text/plain": [
       "         X1       X2     X3       X4    X5    X6    X7    X8       Y1\n",
       "min  0.6200  514.500  245.0  110.250  3.50  2.00  0.00  0.00   6.0100\n",
       "25%  0.6825  606.375  294.0  140.875  3.50  2.75  0.10  1.75  12.9925\n",
       "50%  0.7500  673.750  318.5  183.750  5.25  3.50  0.25  3.00  18.9500\n",
       "75%  0.8300  741.125  343.0  220.500  7.00  4.25  0.40  4.00  31.6675\n",
       "max  0.9800  808.500  416.5  220.500  7.00  5.00  0.40  5.00  43.1000"
      ]
     },
     "execution_count": 391,
     "metadata": {},
     "output_type": "execute_result"
    }
   ],
   "source": [
    "df.describe().drop(['count','mean','std'])"
   ]
  },
  {
   "cell_type": "markdown",
   "metadata": {},
   "source": [
    " __REGRESSION__:\n",
    "\n",
    "Using the data, we want to predict \"Heating load\". The output variable is continuous. Hence, we need to use a regression algorithm.  \n",
    "\n",
    "__Q 1.2:__ \n",
    "\n",
    "Split the dataset randomly into train and test. Train a **Linear Regression** model on 80% of the data (80-20 split).\n",
    "What is the intercept and coefficient values?\n",
    "\n"
   ]
  },
  {
   "cell_type": "code",
   "execution_count": 392,
   "metadata": {},
   "outputs": [],
   "source": [
    "X=df.iloc[:,:-1]\n",
    "Y=df['Y1']"
   ]
  },
  {
   "cell_type": "code",
   "execution_count": 393,
   "metadata": {},
   "outputs": [],
   "source": [
    "from sklearn.model_selection import train_test_split\n",
    "x_train, x_test, y_train, y_test = train_test_split(X, Y, test_size=0.2, random_state=100)"
   ]
  },
  {
   "cell_type": "code",
   "execution_count": 394,
   "metadata": {},
   "outputs": [
    {
     "data": {
      "text/plain": [
       "LinearRegression(copy_X=True, fit_intercept=True, n_jobs=None,\n",
       "         normalize=False)"
      ]
     },
     "execution_count": 394,
     "metadata": {},
     "output_type": "execute_result"
    }
   ],
   "source": [
    "from sklearn import linear_model\n",
    "LinearRegressionModel = linear_model.LinearRegression()\n",
    "LinearRegressionModel.fit(x_train, y_train)"
   ]
  },
  {
   "cell_type": "code",
   "execution_count": 395,
   "metadata": {},
   "outputs": [
    {
     "data": {
      "text/plain": [
       "81.11764681929523"
      ]
     },
     "execution_count": 395,
     "metadata": {},
     "output_type": "execute_result"
    }
   ],
   "source": [
    "LinearRegressionModel.intercept_"
   ]
  },
  {
   "cell_type": "code",
   "execution_count": 396,
   "metadata": {},
   "outputs": [
    {
     "data": {
      "text/plain": [
       "array([-6.46058188e+01, -5.99462098e-02,  3.43033160e-02, -4.71247628e-02,\n",
       "        4.35455621e+00, -4.34832796e-03,  1.95275235e+01,  2.90736413e-01])"
      ]
     },
     "execution_count": 396,
     "metadata": {},
     "output_type": "execute_result"
    }
   ],
   "source": [
    "LinearRegressionModel.coef_"
   ]
  },
  {
   "cell_type": "markdown",
   "metadata": {
    "collapsed": true
   },
   "source": [
    "\n",
    "#### Q.1.3: \n",
    "\n",
    "Create a function which takes arrays of prediction and actual values of the output as parameters to calculate **'Root Mean Square error'** (RMSE) metric:  \n",
    "\n",
    "1. Use the function to calculate the training RMSE  \n",
    "2. Use the function to calculate the test RMSE\n",
    "\n"
   ]
  },
  {
   "cell_type": "code",
   "execution_count": 397,
   "metadata": {},
   "outputs": [],
   "source": [
    "from sklearn.metrics import mean_squared_error\n",
    "from math import sqrt\n",
    "def rmse(actual, pred):\n",
    "    return sqrt(mean_squared_error(actual, pred))"
   ]
  },
  {
   "cell_type": "code",
   "execution_count": 398,
   "metadata": {},
   "outputs": [
    {
     "data": {
      "text/plain": [
       "2.9228304645098064"
      ]
     },
     "execution_count": 398,
     "metadata": {},
     "output_type": "execute_result"
    }
   ],
   "source": [
    "rmse(y_train, LinearRegressionModel.predict(x_train))"
   ]
  },
  {
   "cell_type": "code",
   "execution_count": 399,
   "metadata": {},
   "outputs": [
    {
     "data": {
      "text/plain": [
       "2.9249096398738486"
      ]
     },
     "execution_count": 399,
     "metadata": {},
     "output_type": "execute_result"
    }
   ],
   "source": [
    "rmse(y_test, LinearRegressionModel.predict(x_test))"
   ]
  },
  {
   "cell_type": "markdown",
   "metadata": {},
   "source": [
    "\n",
    "#### Q1.4: \n",
    "\n",
    "Let's see the effect of amount of data on the performance of prediction model. Use varying amounts of data (100,200,300,400,500,all) from the training data you used previously to train different regression models. Report  training error and test error in each case. Test data  is the same as above for  all  these cases.\n",
    "\n",
    "**Plot error rates vs number of training examples.** Both the training error and the test error should be plotted. Comment on the relationship you observe between the amount of data used to train the model and the test accuracy of the model.\n",
    "\n",
    "__Hint:__ Use array indexing to choose varying data amounts"
   ]
  },
  {
   "cell_type": "code",
   "execution_count": 400,
   "metadata": {},
   "outputs": [],
   "source": [
    "data = [100, 200, 300, 400, 500, len(df)]\n",
    "train, test = [], []\n",
    "for i in data:\n",
    "    X=df.iloc[:i,:-1]\n",
    "    Y=df.iloc[:i,-1]\n",
    "    x_train, x_test, y1, y2 = train_test_split(X, Y, test_size=0.2, random_state=100)\n",
    "    LinearRegressionModel = linear_model.LinearRegression()\n",
    "    LinearRegressionModel.fit(x_train, y1)\n",
    "    train.append(rmse(y1, LinearRegressionModel.predict(x_train)))\n",
    "    test.append(rmse(y2, LinearRegressionModel.predict(x_test)))"
   ]
  },
  {
   "cell_type": "code",
   "execution_count": 401,
   "metadata": {},
   "outputs": [
    {
     "data": {
      "text/plain": [
       "[2.898217670293583,\n",
       " 3.025358875090744,\n",
       " 2.841505812583586,\n",
       " 2.9513047071415133,\n",
       " 2.851810910830902,\n",
       " 2.9228304645098064]"
      ]
     },
     "execution_count": 401,
     "metadata": {},
     "output_type": "execute_result"
    }
   ],
   "source": [
    "train"
   ]
  },
  {
   "cell_type": "code",
   "execution_count": 402,
   "metadata": {},
   "outputs": [
    {
     "data": {
      "text/plain": [
       "[3.51872979356839,\n",
       " 3.1901636551705095,\n",
       " 2.9052394394691343,\n",
       " 2.7214783660531587,\n",
       " 2.909827606308973,\n",
       " 2.9249096398738486]"
      ]
     },
     "execution_count": 402,
     "metadata": {},
     "output_type": "execute_result"
    }
   ],
   "source": [
    "test"
   ]
  },
  {
   "cell_type": "code",
   "execution_count": 403,
   "metadata": {},
   "outputs": [
    {
     "data": {
      "image/png": "[encoded data removed]",
      "text/plain": [
       "<Figure size 432x288 with 1 Axes>"
      ]
     },
     "metadata": {
      "needs_background": "light"
     },
     "output_type": "display_data"
    }
   ],
   "source": [
    "plt.plot(data, train, 'r-', label='Train Error')\n",
    "plt.plot(data, test, 'b-', label='Test Error')\n",
    "plt.legend()\n",
    "plt.xlabel('Data Size')\n",
    "plt.ylabel('Error')\n",
    "plt.title('Error rates vs Number of training examples')\n",
    "plt.show()"
   ]
  },
  {
   "cell_type": "markdown",
   "metadata": {},
   "source": [
    "As the amount of data that used to build the model increases, both Train error and test error decrease."
   ]
  },
  {
   "cell_type": "markdown",
   "metadata": {},
   "source": [
    "## Part 2 - Classification"
   ]
  },
  {
   "cell_type": "markdown",
   "metadata": {},
   "source": [
    "\n",
    "__CLASSIFICATION__:\n",
    "LABELS ARE DISCRETE VALUES.\n",
    "\n",
    "Here the model is trained to classify each instance into a set of predefined discrete classes. On inputting a feature vector into the model, the trained model is able to predict a class of that instance.\n",
    "\n",
    "\n",
    "#### Q2.1\n",
    "Bucket the values of 'y1' i.e 'Heating Load'  from the original dataset into 3 classes:\n",
    "\n",
    "0: 'Low' ( < 14),   \n",
    "1: 'Medium'  (14-28),   \n",
    "2: 'High'  (>28)\n",
    "\n",
    "**HINT:** Use pandas.cut\n",
    "\n",
    "This converts the given dataset  into a classification problem. Use this dataset with transformed 'heating load' to create a **logistic regression** classifiction model that predicts heating load type of a building. Split the data randomly into training and test set. Train the model on 80% of the data (80-20 split).\n",
    "\n"
   ]
  },
  {
   "cell_type": "code",
   "execution_count": 321,
   "metadata": {},
   "outputs": [],
   "source": [
    "df = shuffle(df)"
   ]
  },
  {
   "cell_type": "code",
   "execution_count": 442,
   "metadata": {},
   "outputs": [],
   "source": [
    "Y = pd.cut(df['Y1'], [6, 14, 28, 45], labels=[0, 1, 2])\n",
    "X = df.iloc[:,:-1]\n",
    "x_train, x_test, y_train, y_test = train_test_split(X, Y, test_size=0.2, random_state=100)\n"
   ]
  },
  {
   "cell_type": "code",
   "execution_count": 561,
   "metadata": {},
   "outputs": [
    {
     "data": {
      "text/plain": [
       "LogisticRegression(C=1.0, class_weight=None, dual=False, fit_intercept=True,\n",
       "          intercept_scaling=1, max_iter=100, multi_class='warn',\n",
       "          n_jobs=None, penalty='l2', random_state=None, solver='warn',\n",
       "          tol=0.0001, verbose=0, warm_start=False)"
      ]
     },
     "execution_count": 561,
     "metadata": {},
     "output_type": "execute_result"
    }
   ],
   "source": [
    "LogisticRegressionModel = linear_model.LogisticRegression()\n",
    "LogisticRegressionModel.fit(x_train, y_train)"
   ]
  },
  {
   "cell_type": "markdown",
   "metadata": {},
   "source": [
    "#### Q2.2 \n",
    "- Print the training and test accuracies\n",
    "- Print the confusion matrix\n",
    "- Print the precision and recall numbers for all the classes\n"
   ]
  },
  {
   "cell_type": "code",
   "execution_count": 444,
   "metadata": {},
   "outputs": [
    {
     "name": "stdout",
     "output_type": "stream",
     "text": [
      "Accuracy of the model on train data:  0.8061889250814332\n"
     ]
    }
   ],
   "source": [
    "train_accuracy=LogisticRegressionModel.score(x_train,y_train)\n",
    "print('Accuracy of the model on train data: ',train_accuracy)"
   ]
  },
  {
   "cell_type": "code",
   "execution_count": 445,
   "metadata": {},
   "outputs": [
    {
     "name": "stdout",
     "output_type": "stream",
     "text": [
      "Accuracy of the model on test data:  0.7337662337662337\n"
     ]
    }
   ],
   "source": [
    "test_accuracy=LogisticRegressionModel.score(x_test,y_test)\n",
    "print('Accuracy of the model on test data: ',test_accuracy)"
   ]
  },
  {
   "cell_type": "code",
   "execution_count": 446,
   "metadata": {},
   "outputs": [
    {
     "name": "stdout",
     "output_type": "stream",
     "text": [
      "Confusion matrix of test data is: \n",
      "           Predicted 0  Predicted 1  Predicted 2\n",
      "Actual 0           38            2            0\n",
      "Actual 1           11           25           28\n",
      "Actual 2            0            0           50\n"
     ]
    }
   ],
   "source": [
    "from sklearn.metrics import confusion_matrix\n",
    "y_true = y_test\n",
    "y_pred = LogisticRegressionModel.predict(x_test)\n",
    "ConfusionMatrix=pd.DataFrame(confusion_matrix(y_true, y_pred),columns=['Predicted 0','Predicted 1','Predicted 2'],index=['Actual 0','Actual 1','Actual 2'])\n",
    "print ('Confusion matrix of test data is: \\n',ConfusionMatrix)"
   ]
  },
  {
   "cell_type": "code",
   "execution_count": 447,
   "metadata": {},
   "outputs": [
    {
     "name": "stdout",
     "output_type": "stream",
     "text": [
      "Average precision for the 3 classes is -  [0.7755102  0.92592593 0.64102564]\n"
     ]
    }
   ],
   "source": [
    "from sklearn.metrics import precision_score\n",
    "print(\"Average precision for the 3 classes is - \", precision_score(y_true, y_pred, average = None) )"
   ]
  },
  {
   "cell_type": "code",
   "execution_count": 448,
   "metadata": {},
   "outputs": [
    {
     "name": "stdout",
     "output_type": "stream",
     "text": [
      "Average recall for the 3 classes is -  [0.95     0.390625 1.      ]\n"
     ]
    }
   ],
   "source": [
    "from sklearn.metrics import recall_score\n",
    "print(\"Average recall for the 3 classes is - \", recall_score(y_true, y_pred, average = None) )"
   ]
  },
  {
   "cell_type": "markdown",
   "metadata": {},
   "source": [
    "#### Q2.3\n",
    "##### K Fold Cross Validation\n",
    "\n",
    " In k-fold cross-validation, the shuffled training data is partitioned into k disjoint sets and the model is trained on k −1 sets and validated on the kth set. This process is repeated k times with each set chosen as the validation set once. The cross-validation accuracy is reported as the average accuracy of the k iterations\n",
    " \n",
    "__Use 7-fold cross validation on the training data. Print the average accuracy__"
   ]
  },
  {
   "cell_type": "code",
   "execution_count": 562,
   "metadata": {},
   "outputs": [],
   "source": [
    "from sklearn.model_selection import KFold\n",
    "accuracy = []\n",
    "X=np.array(df.iloc[:,:-1])\n",
    "Y=np.array(pd.cut(df['Y1'], [6, 14, 28, 45], labels=[0, 1, 2]))\n",
    "kf = KFold(n_splits=7, shuffle=True)\n",
    "for train_index, test_index in kf.split(X):\n",
    "    X_train, X_test = X[train_index], X[test_index]\n",
    "    Y_train, Y_test = Y[train_index], Y[test_index]\n",
    "    LogisticRegressionModel = linear_model.LogisticRegression()\n",
    "    LogisticRegressionModel.fit(X_train, Y_train)\n",
    "    accuracy.append(LogisticRegressionModel.score(X_train,Y_train))"
   ]
  },
  {
   "cell_type": "code",
   "execution_count": 543,
   "metadata": {},
   "outputs": [
    {
     "data": {
      "text/plain": [
       "[0.7963525835866262,\n",
       " 0.8115501519756839,\n",
       " 0.8069908814589666,\n",
       " 0.7978723404255319,\n",
       " 0.8069908814589666,\n",
       " 0.8012139605462822,\n",
       " 0.8088012139605463]"
      ]
     },
     "execution_count": 543,
     "metadata": {},
     "output_type": "execute_result"
    }
   ],
   "source": [
    "accuracy"
   ]
  },
  {
   "cell_type": "code",
   "execution_count": 544,
   "metadata": {},
   "outputs": [
    {
     "data": {
      "text/plain": [
       "0.8042531447732292"
      ]
     },
     "execution_count": 544,
     "metadata": {},
     "output_type": "execute_result"
    }
   ],
   "source": [
    "np.mean(accuracy)"
   ]
  },
  {
   "cell_type": "markdown",
   "metadata": {},
   "source": [
    "__Q2.4__\n",
    "\n",
    "One of the preprocessing steps in Data science is Feature Scaling i.e getting all our data on the same scale by setting same  Min-Max of feature values. \n",
    "This makes training less sensitive to the scale of features . \n",
    "Scaling is important in algorithms that use distance functions as a part of classification. If we Scale features in the range [0,1] it is called unity based normalization.\n",
    "\n",
    "__Perform unity based normalization on the above dataset and train the model again, compare model performance in training and validation with your previous model.__  \n",
    "\n",
    "refer:http://scikit-learn.org/stable/modules/preprocessing.html#preprocessing-scaler  \n",
    "more at: https://en.wikipedia.org/wiki/Feature_scaling"
   ]
  },
  {
   "cell_type": "code",
   "execution_count": 545,
   "metadata": {},
   "outputs": [],
   "source": [
    "from sklearn import preprocessing"
   ]
  },
  {
   "cell_type": "code",
   "execution_count": 550,
   "metadata": {},
   "outputs": [],
   "source": [
    "min_max_scaler = preprocessing.MinMaxScaler(feature_range=(0, 1))"
   ]
  },
  {
   "cell_type": "code",
   "execution_count": 551,
   "metadata": {},
   "outputs": [],
   "source": [
    "X=np.array(df.iloc[:,:-1])\n",
    "Y=np.array(pd.cut(df['Y1'], [6, 14, 28, 45], labels=[0, 1, 2]))\n",
    "x_train, x_test, y_train, y_test = train_test_split(X, Y, test_size=0.2, random_state=100)"
   ]
  },
  {
   "cell_type": "code",
   "execution_count": 563,
   "metadata": {},
   "outputs": [
    {
     "data": {
      "text/plain": [
       "LogisticRegression(C=1.0, class_weight=None, dual=False, fit_intercept=True,\n",
       "          intercept_scaling=1, max_iter=100, multi_class='warn',\n",
       "          n_jobs=None, penalty='l2', random_state=None, solver='warn',\n",
       "          tol=0.0001, verbose=0, warm_start=False)"
      ]
     },
     "execution_count": 563,
     "metadata": {},
     "output_type": "execute_result"
    }
   ],
   "source": [
    "x_train_minmax = min_max_scaler.fit_transform(x_train)\n",
    "x_test_minmax = min_max_scaler.transform(x_test)\n",
    "LogisticRegressionModel = linear_model.LogisticRegression()\n",
    "LogisticRegressionModel.fit(x_train_minmax, y_train)"
   ]
  },
  {
   "cell_type": "code",
   "execution_count": 553,
   "metadata": {},
   "outputs": [
    {
     "data": {
      "text/plain": [
       "0.8208469055374593"
      ]
     },
     "execution_count": 553,
     "metadata": {},
     "output_type": "execute_result"
    }
   ],
   "source": [
    "LogisticRegressionModel.score(x_train_minmax,y_train)"
   ]
  },
  {
   "cell_type": "markdown",
   "metadata": {},
   "source": [
    "After shuffle the data at least 10 time for both 2.3 and 2.4, The performance for unity based normalization is generally 0.02 better than 7-fold cross validation on this particular data set. "
   ]
  },
  {
   "cell_type": "code",
   "execution_count": null,
   "metadata": {},
   "outputs": [],
   "source": []
  }
 ],
 "metadata": {
  "kernel_info": {
   "name": "data-x"
  },
  "kernelspec": {
   "display_name": "Python 3",
   "language": "python",
   "name": "python3"
  },
  "language_info": {
   "codemirror_mode": {
    "name": "ipython",
    "version": 3
   },
   "file_extension": ".py",
   "mimetype": "text/x-python",
   "name": "python",
   "nbconvert_exporter": "python",
   "pygments_lexer": "ipython3",
   "version": "3.6.7"
  },
  "nteract": {
   "version": "0.7.1"
  }
 },
 "nbformat": 4,
 "nbformat_minor": 2
}
