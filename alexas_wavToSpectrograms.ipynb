{
 "cells": [
  {
   "cell_type": "code",
   "execution_count": 23,
   "metadata": {},
   "outputs": [],
   "source": [
    "import csv\n",
    "import os\n",
    "import librosa\n",
    "import numpy as np\n",
    "import matplotlib.pyplot as plt\n",
    "import librosa.display\n",
    "import time"
   ]
  },
  {
   "cell_type": "code",
   "execution_count": 18,
   "metadata": {},
   "outputs": [],
   "source": [
    "speakers = [0, 1, 2, 3, 4, 5, 6, 7, 8, 9] \n",
    "# 0 = sk, 1 = kr, 2= cs, 3 = ss, 4 = pg, 5 = jx, 6 = rg, 7 = ac, 8 = pr, 9= md"
   ]
  },
  {
   "cell_type": "code",
   "execution_count": 92,
   "metadata": {},
   "outputs": [
    {
     "data": {
      "text/plain": [
       "['sk_audio',\n",
       " 'kr_audio',\n",
       " 'cs_audio',\n",
       " 'ss_audio',\n",
       " 'pg_audio',\n",
       " 'jx_audio',\n",
       " 'rg_audio',\n",
       " 'ac_audio',\n",
       " 'pr_audio',\n",
       " 'md_audio']"
      ]
     },
     "execution_count": 92,
     "metadata": {},
     "output_type": "execute_result"
    }
   ],
   "source": [
    "i = os.listdir('Data')\n",
    "i.pop(3)\n",
    "i"
   ]
  },
  {
   "cell_type": "code",
   "execution_count": 93,
   "metadata": {},
   "outputs": [
    {
     "name": "stdout",
     "output_type": "stream",
     "text": [
      "sk_audio.csv\n",
      "kr_audio.csv\n",
      "cs_audio.csv\n",
      "ss_audio.csv\n",
      "pg_audio.csv\n",
      "jx_audio.csv\n",
      "rg_audio.csv\n",
      "ac_audio.csv\n",
      "pr_audio.csv\n",
      "md_audio.csv\n"
     ]
    }
   ],
   "source": [
    "for ele in i:\n",
    "    print(ele+'.csv')"
   ]
  },
  {
   "cell_type": "code",
   "execution_count": 110,
   "metadata": {},
   "outputs": [],
   "source": [
    "for ele in i:\n",
    "    count=-1\n",
    "    with open('Data/'+ele+'/'+ele+'_df.csv') as csvfile:\n",
    "        spamreader = csv.reader(csvfile, delimiter=',')\n",
    "        for row in spamreader:\n",
    "            count+=1\n",
    "            if count == 0:\n",
    "                continue    \n",
    "            if not os.path.exists('spectrograms/' + row[2]):\n",
    "                os.makedirs('spectrograms/' + row[2])\n",
    "                os.makedirs('spectrograms/test/' + row[2])\n",
    "            y, sr = librosa.load(\"Data/\"+ele+\"/\"+row[1])\n",
    "            # make and display a mel-scaled power spectrogram\n",
    "            S = librosa.feature.melspectrogram(y, sr=sr, n_mels=128)\n",
    "            # Convert to log scale (dB). Use the peak power as reference.\n",
    "            log_S = librosa.power_to_db(S)\n",
    "            fig = plt.figure(figsize=(12,4))\n",
    "            ax = plt.Axes(fig, [0., 0., 1., 1.])\n",
    "            ax.set_axis_off()\n",
    "            fig.add_axes(ax)\n",
    "            # Display the spectrogram on a mel scale\n",
    "            # sample rate and hop length parameters are used to render the time axis\n",
    "            librosa.display.specshow(log_S, sr=sr, x_axis='time', y_axis='mel')\n",
    "\n",
    "            # Make the figure layout compact\n",
    "\n",
    "            #plt.show()\n",
    "            plt.savefig('spectrograms/' + row[2] + '/' + row[1] + '.jpg')\n",
    "            plt.close()\n"
   ]
  },
  {
   "cell_type": "code",
   "execution_count": 63,
   "metadata": {},
   "outputs": [
    {
     "name": "stdout",
     "output_type": "stream",
     "text": [
      "FOLDER ./spectrograms/\n",
      ".DS_Store\n",
      "FOLDER ./spectrograms/chet_s\n",
      "cs_split_sent41.wav.png\n",
      "cs_split_sent23.wav.png\n",
      "cs_split_sent33.wav.png\n",
      "FOLDER ./spectrograms/speaker\n",
      "FOLDER ./spectrograms/jack_x\n",
      "jx_split_sent009.wav.png\n",
      "jx_split_sent019.wav.png\n",
      "jx_split_sent113.wav.png\n",
      "FOLDER ./spectrograms/anderson_c\n",
      "ac_split_sent20.wav.png\n",
      "ac_split_sent30.wav.png\n",
      "ac_split_sent99.wav.png\n",
      "FOLDER ./spectrograms/ken_r\n",
      "kr_split_sent003.wav.png\n",
      "kr_split_sent013.wav.png\n",
      "kr_split_sent061.wav.png\n"
     ]
    }
   ],
   "source": [
    "for path, dirs, files in os.walk('./spectrograms/'):\n",
    "    print('FOLDER',path)\n",
    "    for f in files[:3]:\n",
    "        print(f)"
   ]
  },
  {
   "cell_type": "code",
   "execution_count": 102,
   "metadata": {},
   "outputs": [
    {
     "name": "stdout",
     "output_type": "stream",
     "text": [
      "2.0.0-alpha0\n"
     ]
    }
   ],
   "source": [
    "import tensorflow as tf; \n",
    "print(tf.__version__)"
   ]
  },
  {
   "cell_type": "code",
   "execution_count": 108,
   "metadata": {},
   "outputs": [],
   "source": [
    "y, sr = librosa.load('jx4.wav')\n",
    "# make and display a mel-scaled power spectrogram\n",
    "S = librosa.feature.melspectrogram(y, sr=sr, n_mels=128)\n",
    "# Convert to log scale (dB). Use the peak power as reference.\n",
    "log_S = librosa.power_to_db(S)\n",
    "fig = plt.figure(figsize=(12,4))\n",
    "ax = plt.Axes(fig, [0., 0., 1., 1.])\n",
    "ax.set_axis_off()\n",
    "fig.add_axes(ax)\n",
    "# Display the spectrogram on a mel scale        \n",
    "# sample rate and hop length parameters are used to render the time axis\n",
    "librosa.display.specshow(log_S, sr=sr, x_axis='time', y_axis='mel')\n",
    "# Make the figure layout compact\n",
    "#plt.show()\n",
    "plt.savefig('jx44.png')\n",
    "plt.close()"
   ]
  },
  {
   "cell_type": "code",
   "execution_count": null,
   "metadata": {},
   "outputs": [],
   "source": []
  }
 ],
 "metadata": {
  "kernelspec": {
   "display_name": "Python 3",
   "language": "python",
   "name": "python3"
  },
  "language_info": {
   "codemirror_mode": {
    "name": "ipython",
    "version": 3
   },
   "file_extension": ".py",
   "mimetype": "text/x-python",
   "name": "python",
   "nbconvert_exporter": "python",
   "pygments_lexer": "ipython3",
   "version": "3.6.7"
  }
 },
 "nbformat": 4,
 "nbformat_minor": 2
}
